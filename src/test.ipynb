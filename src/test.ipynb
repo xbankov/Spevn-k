{
 "cells": [
  {
   "cell_type": "code",
   "execution_count": 2,
   "metadata": {},
   "outputs": [],
   "source": [
    "raw_tab = \"[Intro]\\r\\n[ch]Em[/ch]    [ch]Em[/ch]   [ch]D6/9[/ch]  [ch]D6/9[/ch]  x2\\r\\n\\r\\n[Verse 1]\\r\\n[tab]       [ch]Em[/ch]                [ch]D6/9[/ch]\\r\\nOn the first part of the journey[/tab]\\r\\n[tab]      [ch]Em[/ch]                 [ch]D6/9[/ch]\\r\\nI was looking at all the life[/tab]\\r\\n[tab]           [ch]Em[/ch]                   [ch]D6/9[/ch]\\r\\nThere were plants and birds and rocks and things[/tab]\\r\\n[tab]           [ch]Em[/ch]                 [ch]D6/9[/ch]\\r\\nThere were sand and hills and rings[/tab]\\r\\n[tab]    [ch]Em[/ch]                      [ch]D6/9[/ch]\\r\\nThe first thing I met was a fly with a buzz[/tab]\\r\\n[tab]        [ch]Em[/ch]            [ch]D6/9[/ch]\\r\\nAnd the sky with no clouds[/tab]\\r\\n[tab]    [ch]Em[/ch]                    [ch]D6/9[/ch]\\r\\nThe heat was hot and the ground was dry[/tab]\\r\\n[tab]        [ch]Em[/ch]                [ch]D6/9[/ch]\\r\\nBut the air was full of sound[/tab]\\r\\n\\r\\n\\r\\n[Chorus]\\r\\n[tab]     [ch]Em9[/ch]                          [ch]Dmaj9[/ch]\\r\\nI've been through the desert on a horse with no name[/tab]\\r\\n[tab]        [ch]Em9[/ch]                   [ch]Dmaj9[/ch]\\r\\nIt felt good to be out of the rain[/tab]\\r\\n[tab]        [ch]Em9[/ch]              [ch]Dmaj9[/ch]\\r\\nIn the desert you can remember your name[/tab]\\r\\n[tab]              [ch]Em9[/ch]                [ch]Dmaj9[/ch]\\r\\n'Cause there ain't no one for to give you no pain[/tab]\\r\\n[tab][ch]Em9[/ch]         [ch]Dmaj9[/ch]\\r\\nLa, la, la lala la la la, la, la[/tab]\\r\\n[tab][ch]Em9[/ch]         [ch]Dmaj9[/ch]\\r\\nLa, la, la lala la la la, la, la[/tab]\\r\\n\\r\\n\\r\\n[Verse 2]\\r\\n[tab]      [ch]Em[/ch]              [ch]D6/9[/ch]\\r\\nAfter two days in the desert sun[/tab]\\r\\n[tab]    [ch]Em[/ch]                [ch]D6/9[/ch]\\r\\nMy skin began to turn red[/tab]\\r\\n[tab]       [ch]Em[/ch]               [ch]D6/9[/ch]\\r\\nAfter three days in the desert fun[/tab]\\r\\n[tab]      [ch]Em[/ch]                 [ch]D6/9[/ch]\\r\\nI was looking at a river bed[/tab]\\r\\n[tab]        [ch]Em[/ch]                 [ch]D6/9[/ch]\\r\\nAnd the story it told of a river that flowed[/tab]\\r\\n[tab]        [ch]Em[/ch]                  [ch]D6/9[/ch]\\r\\nMade me sad to think it was dead[/tab]\\r\\n\\r\\n\\r\\n[Chorus]\\r\\n[tab]             [ch]Em9[/ch]                          [ch]Dmaj9[/ch]\\r\\nYou see I've been through the desert on a horse with no name[/tab]\\r\\n[tab]         [ch]Em9[/ch]                  [ch]Dmaj9[/ch]\\r\\nIt felt good to be out of the rain[/tab]\\r\\n[tab]       [ch]Em9[/ch]             [ch]Dmaj9[/ch]\\r\\nIn the desert you can remember your name[/tab]\\r\\n[tab]       [ch]Em9[/ch]                       [ch]Dmaj9[/ch]\\r\\n'Cause there ain't no one for to give you no pain[/tab]\\r\\n[tab]    [ch]Em9[/ch]        [ch]Dmaj9[/ch]\\r\\nLa, la, la lala la la la, la, la[/tab]\\r\\n[tab]     [ch]Em9[/ch]         [ch]Dmaj9[/ch]\\r\\nLa, la, la lala la la la, la, la[/tab]\\r\\n\\r\\n\\r\\n[Verse 3]\\r\\n[tab]      [ch]Em[/ch]                  [ch]D6/9[/ch]\\r\\nAfter nine days I let the horse run free[/tab]\\r\\n[tab]           [ch]Em[/ch]                   [ch]D6/9[/ch]\\r\\n'Cause the desert had turned to sea[/tab]\\r\\n[tab]           [ch]Em[/ch]                   [ch]D6/9[/ch]\\r\\nThere were plants and birds and rocks and things[/tab]\\r\\n[tab]           [ch]Em[/ch]                 [ch]D6/9[/ch]\\r\\nThere were sand and hills and rings[/tab]\\r\\n[tab]    [ch]Em[/ch]                         [ch]D6/9[/ch]\\r\\nThe ocean is a desert with its life underground[/tab]\\r\\n[tab]      [ch]Em[/ch]               [ch]D6/9[/ch]\\r\\nAnd a perfect disguise above[/tab]\\r\\n[tab]          [ch]Em[/ch]            [ch]D6/9[/ch]\\r\\nUnder the cities lies a heart made of ground[/tab]\\r\\n[tab]        [ch]Em[/ch]                  [ch]D6/9[/ch]\\r\\nBut the humans will give no love[/tab]\\r\\n\\r\\n\\r\\n[Chorus]\\r\\n[tab]              [ch]Em9[/ch]                          [ch]Dmaj9[/ch]\\r\\nYou see, I've been through the desert on a horse with no name[/tab]\\r\\n[tab]        [ch]Em9[/ch]                   [ch]Dmaj9[/ch]\\r\\nIt felt good to be out of the rain[/tab]\\r\\n[tab]       [ch]Em9[/ch]              [ch]Dmaj9[/ch]\\r\\nIn the desert you can remember your name[/tab]\\r\\n[tab]       [ch]Em9[/ch]                       [ch]Dmaj9[/ch]\\r\\n'Cause there ain't no one for to give you no pain[/tab]\\r\\n[tab][ch]Em9[/ch]         [ch]Dmaj9[/ch]\\r\\nLa, la, la lala la la la, la, la[/tab]\\r\\n[tab][ch]Em9[/ch]         [ch]Dmaj9[/ch]\\r\\nLa, la, la lala la la la, la, la[/tab]\\r\\n[tab][ch]Em9[/ch]         [ch]Dmaj9[/ch]\\r\\nLa, la, la lala la la la, la, la[/tab]\\r\\n[tab][ch]Em9[/ch]         [ch]Dmaj9[/ch]\\r\\nLa, la, la lala la la la, la, la[/tab]\\r\\n[tab][ch]Em9[/ch]         [ch]Dmaj9[/ch]\\r\\nLa, la, la lala la la la, la, la[/tab]\\r\\n[tab][ch]Em9[/ch]         [ch]Dmaj9[/ch]\\r\\nLa, la, la lala la la la, la, la[/tab]\\r\\n[tab][ch]Em9[/ch]         [ch]Dmaj9[/ch]\\r\\nLa, la, la lala la la la, la, la[/tab]\\r\\n[tab][ch]Em9[/ch]         [ch]Dmaj9[/ch]\\r\\nLa, la, la lala la la la, la, la[/tab]\""
   ]
  },
  {
   "cell_type": "code",
   "execution_count": 3,
   "metadata": {},
   "outputs": [
    {
     "name": "stdout",
     "output_type": "stream",
     "text": [
      "{title: Unknown}\n",
      "\n",
      "[Intro]\n",
      "\n",
      "[Em]    [Em]   [D6/9]  [D6/9]  x2\n",
      "\n",
      "[Verse 1]\n",
      "\n",
      "On the [Em]first part of the [D6/9]journey\n",
      "I was [Em]looking at all the [D6/9]life\n",
      "There were [Em]plants and birds and [D6/9]rocks and things\n",
      "There were [Em]sand and hills and [D6/9]rings\n",
      "The [Em]first thing I met was a [D6/9]fly with a buzz\n",
      "And the [Em]sky with no cl[D6/9]ouds\n",
      "The [Em]heat was hot and the g[D6/9]round was dry\n",
      "But the [Em]air was full of so[D6/9]und\n",
      "\n",
      "[Chorus]\n",
      "\n",
      "I've [Em9]been through the desert on a[Dmaj9] horse with no name\n",
      "It felt [Em9]good to be out of the[Dmaj9] rain\n",
      "In the d[Em9]esert you can re[Dmaj9]member your name\n",
      "'Cause there a[Em9]in't no one for to[Dmaj9] give you no pain\n",
      "[Em9]La, la, la [Dmaj9]lala la la la, la, la\n",
      "[Em9]La, la, la [Dmaj9]lala la la la, la, la\n",
      "\n",
      "[Verse 2]\n",
      "\n",
      "After [Em]two days in the [D6/9]desert sun\n",
      "My s[Em]kin began to turn [D6/9]red\n",
      "After t[Em]hree days in the [D6/9]desert fun\n",
      "I was [Em]looking at a river [D6/9]bed\n",
      "And the [Em]story it told of a [D6/9]river that flowed\n",
      "Made me [Em]sad to think it was [D6/9]dead\n",
      "\n",
      "[Chorus]\n",
      "\n",
      "You see I've [Em9]been through the desert on a[Dmaj9] horse with no name\n",
      "It felt g[Em9]ood to be out of the[Dmaj9] rain\n",
      "In the [Em9]desert you can [Dmaj9]remember your name\n",
      "'Cause [Em9]there ain't no one for to[Dmaj9] give you no pain\n",
      "La, [Em9]la, la lal[Dmaj9]a la la la, la, la\n",
      "La, l[Em9]a, la lala [Dmaj9]la la la, la, la\n",
      "\n",
      "[Verse 3]\n",
      "\n",
      "After [Em]nine days I let the [D6/9]horse run free\n",
      "'Cause the [Em]desert had turned to [D6/9]sea\n",
      "There were [Em]plants and birds and [D6/9]rocks and things\n",
      "There were [Em]sand and hills and [D6/9]rings\n",
      "The [Em]ocean is a desert with its [D6/9]life underground\n",
      "And a [Em]perfect disguise [D6/9]above\n",
      "Under the [Em]cities lies a [D6/9]heart made of ground\n",
      "But the [Em]humans will give no [D6/9]love\n",
      "\n",
      "[Chorus]\n",
      "\n",
      "You see, I've [Em9]been through the desert on a[Dmaj9] horse with no name\n",
      "It felt [Em9]good to be out of the[Dmaj9] rain\n",
      "In the [Em9]desert you can r[Dmaj9]emember your name\n",
      "'Cause [Em9]there ain't no one for to[Dmaj9] give you no pain\n",
      "[Em9]La, la, la [Dmaj9]lala la la la, la, la\n",
      "[Em9]La, la, la [Dmaj9]lala la la la, la, la\n",
      "[Em9]La, la, la [Dmaj9]lala la la la, la, la\n",
      "[Em9]La, la, la [Dmaj9]lala la la la, la, la\n",
      "[Em9]La, la, la [Dmaj9]lala la la la, la, la\n",
      "[Em9]La, la, la [Dmaj9]lala la la la, la, la\n",
      "[Em9]La, la, la [Dmaj9]lala la la la, la, la\n",
      "[Em9]La, la, la [Dmaj9]lala la la la, la, la\n"
     ]
    }
   ],
   "source": [
    "import re\n",
    "\n",
    "\n",
    "def normalize_ultimate_guitar(tab, title):\n",
    "    norm_tab = []\n",
    "    norm_tab.append(f\"{{title: {title}}}\")\n",
    "\n",
    "    capo_match = re.search(r\"Capo: (\\d+)\", tab)\n",
    "    capo = int(capo_match.group(1)) if capo_match else None\n",
    "    if capo:\n",
    "        norm_tab.append(f\"{{capo: {capo}}}\")\n",
    "\n",
    "    sections = tab.split(\"\\r\\n\\r\\n\")\n",
    "    for section in sections:\n",
    "        lines = [l for l in section.split(\"\\r\\n\") if len(l) != 0]\n",
    "        if len(lines) == 0:\n",
    "            continue\n",
    "        norm_tab.append(lines[0])\n",
    "\n",
    "        norm_lines = []\n",
    "        i = 1\n",
    "        while i < len(lines):\n",
    "            current_line = lines[i]\n",
    "\n",
    "            if current_line.startswith(\"[ch]\"):\n",
    "                norm_chords = re.sub(r\"\\[ch]([^\\]]*)\\[/ch]\", r\"[\\1]\", current_line)\n",
    "                norm_lines.append(norm_chords)\n",
    "                i += 1\n",
    "\n",
    "            elif current_line.startswith(\"[tab]\"):\n",
    "                next_line = lines[i + 1]\n",
    "                current_line = current_line.replace(\"[tab]\", \"\")\n",
    "                next_line = next_line.replace(\"[/tab]\", \"\")\n",
    "\n",
    "                chords_positions = {}\n",
    "                offset = 0\n",
    "                for match in re.finditer(r\"\\[ch]([^\\]]*)\\[/ch]\", current_line):\n",
    "                    chord = match.group(1)\n",
    "                    pos = match.start() - offset\n",
    "                    offset += match.end() - match.start()\n",
    "                    chords_positions[pos] = chord\n",
    "\n",
    "                offset = 0\n",
    "                for pos in sorted(chords_positions.keys()):\n",
    "                    chord = f\"[{chords_positions[pos]}]\"\n",
    "                    next_line = (\n",
    "                        next_line[: pos + offset] + chord + next_line[pos + offset :]\n",
    "                    )\n",
    "                    offset += len(f\"[{chord}]\")\n",
    "                norm_lines.append(next_line)\n",
    "                i += 2\n",
    "            else:\n",
    "                norm_lines.append(lines[i])\n",
    "                i += 1\n",
    "\n",
    "        norm_tab.append(\"\\n\".join(norm_lines))\n",
    "\n",
    "    return \"\\n\\n\".join(norm_tab)\n",
    "\n",
    "\n",
    "print(normalize_ultimate_guitar(raw_tab, title=\"Unknown\"))"
   ]
  },
  {
   "cell_type": "code",
   "execution_count": 4,
   "metadata": {},
   "outputs": [],
   "source": [
    "with open(\"twinklie.chord\", \"r\") as f:\n",
    "    text = f.read()"
   ]
  },
  {
   "cell_type": "code",
   "execution_count": 5,
   "metadata": {},
   "outputs": [
    {
     "data": {
      "text/plain": [
       "'# A simple ChordPro song.\\n\\n{title: Swing Low Sweet Chariot}\\n\\n{start_of_chorus}\\nSwing [D]low, sweet [G]chari[D]ot,\\nComin’ for to carry me [A7]home.\\nSwing [D7]low, sweet [G]chari[D]ot,\\nComin’ for to [A7]carry me [D]home.\\n{end_of_chorus}\\n\\nI [D]looked over Jordan, and [G]what did I [D]see,\\nComin’ for to carry me [A7]home.\\nA [D]band of angels [G]comin’ after [D]me,\\nComin’ for to [A7]carry me [D]home.\\n\\n{comment: Chorus}'"
      ]
     },
     "execution_count": 5,
     "metadata": {},
     "output_type": "execute_result"
    }
   ],
   "source": [
    "text"
   ]
  },
  {
   "cell_type": "code",
   "execution_count": 8,
   "metadata": {},
   "outputs": [
    {
     "ename": "TemplateNotFound",
     "evalue": "static/chords_song.html",
     "output_type": "error",
     "traceback": [
      "\u001b[0;31m---------------------------------------------------------------------------\u001b[0m",
      "\u001b[0;31mTemplateNotFound\u001b[0m                          Traceback (most recent call last)",
      "Cell \u001b[0;32mIn[8], line 5\u001b[0m\n\u001b[1;32m      1\u001b[0m \u001b[38;5;28;01mfrom\u001b[39;00m \u001b[38;5;21;01mjinja2\u001b[39;00m \u001b[38;5;28;01mimport\u001b[39;00m Environment, FileSystemLoader\n\u001b[1;32m      3\u001b[0m env \u001b[38;5;241m=\u001b[39m Environment(loader\u001b[38;5;241m=\u001b[39mFileSystemLoader(\u001b[38;5;124m\"\u001b[39m\u001b[38;5;124m.\u001b[39m\u001b[38;5;124m\"\u001b[39m))\n\u001b[0;32m----> 5\u001b[0m song_template \u001b[38;5;241m=\u001b[39m \u001b[43menv\u001b[49m\u001b[38;5;241;43m.\u001b[39;49m\u001b[43mget_template\u001b[49m\u001b[43m(\u001b[49m\u001b[38;5;124;43m\"\u001b[39;49m\u001b[38;5;124;43mstatic/chords_song.html\u001b[39;49m\u001b[38;5;124;43m\"\u001b[39;49m\u001b[43m)\u001b[49m\n\u001b[1;32m      6\u001b[0m song_data \u001b[38;5;241m=\u001b[39m \u001b[38;5;124m\"\"\"\u001b[39m\n\u001b[1;32m      7\u001b[0m \u001b[38;5;124m# A simple ChordPro song.\u001b[39m\n\u001b[1;32m      8\u001b[0m \n\u001b[0;32m   (...)\u001b[0m\n\u001b[1;32m     38\u001b[0m \u001b[38;5;124m{\u001b[39m\u001b[38;5;124mcomment: Chorus}\u001b[39m\n\u001b[1;32m     39\u001b[0m \u001b[38;5;124m\"\"\"\u001b[39m\n\u001b[1;32m     41\u001b[0m title \u001b[38;5;241m=\u001b[39m re\u001b[38;5;241m.\u001b[39msearch(\u001b[38;5;124mr\u001b[39m\u001b[38;5;124m\"\u001b[39m\u001b[38;5;124m\\\u001b[39m\u001b[38;5;124m{\u001b[39m\u001b[38;5;124mtitle: (.+)\u001b[39m\u001b[38;5;124m\\\u001b[39m\u001b[38;5;124m}\u001b[39m\u001b[38;5;124m\"\u001b[39m, song_data)\n",
      "File \u001b[0;32m~/miniconda3/envs/spevnik/lib/python3.10/site-packages/jinja2/environment.py:1010\u001b[0m, in \u001b[0;36mEnvironment.get_template\u001b[0;34m(self, name, parent, globals)\u001b[0m\n\u001b[1;32m   1007\u001b[0m \u001b[38;5;28;01mif\u001b[39;00m parent \u001b[38;5;129;01mis\u001b[39;00m \u001b[38;5;129;01mnot\u001b[39;00m \u001b[38;5;28;01mNone\u001b[39;00m:\n\u001b[1;32m   1008\u001b[0m     name \u001b[38;5;241m=\u001b[39m \u001b[38;5;28mself\u001b[39m\u001b[38;5;241m.\u001b[39mjoin_path(name, parent)\n\u001b[0;32m-> 1010\u001b[0m \u001b[38;5;28;01mreturn\u001b[39;00m \u001b[38;5;28;43mself\u001b[39;49m\u001b[38;5;241;43m.\u001b[39;49m\u001b[43m_load_template\u001b[49m\u001b[43m(\u001b[49m\u001b[43mname\u001b[49m\u001b[43m,\u001b[49m\u001b[43m \u001b[49m\u001b[38;5;28;43mglobals\u001b[39;49m\u001b[43m)\u001b[49m\n",
      "File \u001b[0;32m~/miniconda3/envs/spevnik/lib/python3.10/site-packages/jinja2/environment.py:969\u001b[0m, in \u001b[0;36mEnvironment._load_template\u001b[0;34m(self, name, globals)\u001b[0m\n\u001b[1;32m    965\u001b[0m             template\u001b[38;5;241m.\u001b[39mglobals\u001b[38;5;241m.\u001b[39mupdate(\u001b[38;5;28mglobals\u001b[39m)\n\u001b[1;32m    967\u001b[0m         \u001b[38;5;28;01mreturn\u001b[39;00m template\n\u001b[0;32m--> 969\u001b[0m template \u001b[38;5;241m=\u001b[39m \u001b[38;5;28;43mself\u001b[39;49m\u001b[38;5;241;43m.\u001b[39;49m\u001b[43mloader\u001b[49m\u001b[38;5;241;43m.\u001b[39;49m\u001b[43mload\u001b[49m\u001b[43m(\u001b[49m\u001b[38;5;28;43mself\u001b[39;49m\u001b[43m,\u001b[49m\u001b[43m \u001b[49m\u001b[43mname\u001b[49m\u001b[43m,\u001b[49m\u001b[43m \u001b[49m\u001b[38;5;28;43mself\u001b[39;49m\u001b[38;5;241;43m.\u001b[39;49m\u001b[43mmake_globals\u001b[49m\u001b[43m(\u001b[49m\u001b[38;5;28;43mglobals\u001b[39;49m\u001b[43m)\u001b[49m\u001b[43m)\u001b[49m\n\u001b[1;32m    971\u001b[0m \u001b[38;5;28;01mif\u001b[39;00m \u001b[38;5;28mself\u001b[39m\u001b[38;5;241m.\u001b[39mcache \u001b[38;5;129;01mis\u001b[39;00m \u001b[38;5;129;01mnot\u001b[39;00m \u001b[38;5;28;01mNone\u001b[39;00m:\n\u001b[1;32m    972\u001b[0m     \u001b[38;5;28mself\u001b[39m\u001b[38;5;241m.\u001b[39mcache[cache_key] \u001b[38;5;241m=\u001b[39m template\n",
      "File \u001b[0;32m~/miniconda3/envs/spevnik/lib/python3.10/site-packages/jinja2/loaders.py:125\u001b[0m, in \u001b[0;36mBaseLoader.load\u001b[0;34m(self, environment, name, globals)\u001b[0m\n\u001b[1;32m    121\u001b[0m     \u001b[38;5;28mglobals\u001b[39m \u001b[38;5;241m=\u001b[39m {}\n\u001b[1;32m    123\u001b[0m \u001b[38;5;66;03m# first we try to get the source for this template together\u001b[39;00m\n\u001b[1;32m    124\u001b[0m \u001b[38;5;66;03m# with the filename and the uptodate function.\u001b[39;00m\n\u001b[0;32m--> 125\u001b[0m source, filename, uptodate \u001b[38;5;241m=\u001b[39m \u001b[38;5;28;43mself\u001b[39;49m\u001b[38;5;241;43m.\u001b[39;49m\u001b[43mget_source\u001b[49m\u001b[43m(\u001b[49m\u001b[43menvironment\u001b[49m\u001b[43m,\u001b[49m\u001b[43m \u001b[49m\u001b[43mname\u001b[49m\u001b[43m)\u001b[49m\n\u001b[1;32m    127\u001b[0m \u001b[38;5;66;03m# try to load the code from the bytecode cache if there is a\u001b[39;00m\n\u001b[1;32m    128\u001b[0m \u001b[38;5;66;03m# bytecode cache configured.\u001b[39;00m\n\u001b[1;32m    129\u001b[0m bcc \u001b[38;5;241m=\u001b[39m environment\u001b[38;5;241m.\u001b[39mbytecode_cache\n",
      "File \u001b[0;32m~/miniconda3/envs/spevnik/lib/python3.10/site-packages/jinja2/loaders.py:204\u001b[0m, in \u001b[0;36mFileSystemLoader.get_source\u001b[0;34m(self, environment, template)\u001b[0m\n\u001b[1;32m    202\u001b[0m         \u001b[38;5;28;01mbreak\u001b[39;00m\n\u001b[1;32m    203\u001b[0m \u001b[38;5;28;01melse\u001b[39;00m:\n\u001b[0;32m--> 204\u001b[0m     \u001b[38;5;28;01mraise\u001b[39;00m TemplateNotFound(template)\n\u001b[1;32m    206\u001b[0m \u001b[38;5;28;01mwith\u001b[39;00m \u001b[38;5;28mopen\u001b[39m(filename, encoding\u001b[38;5;241m=\u001b[39m\u001b[38;5;28mself\u001b[39m\u001b[38;5;241m.\u001b[39mencoding) \u001b[38;5;28;01mas\u001b[39;00m f:\n\u001b[1;32m    207\u001b[0m     contents \u001b[38;5;241m=\u001b[39m f\u001b[38;5;241m.\u001b[39mread()\n",
      "\u001b[0;31mTemplateNotFound\u001b[0m: static/chords_song.html"
     ]
    }
   ],
   "source": [
    "from jinja2 import Environment, FileSystemLoader\n",
    "\n",
    "env = Environment(loader=FileSystemLoader(\".\"))\n",
    "\n",
    "song_template = env.get_template(\"static/chords_song.html\")\n",
    "song_data = \"\"\"\n",
    "# A simple ChordPro song.\n",
    "\n",
    "{title: Swing Low Sweet Chariot}\n",
    "{capo: 4}\n",
    "{start_of_verse}\n",
    "I [D]looked over Jordan, and [G]what did I [D]see,\n",
    "Comin’ for to carry me [A7]home.\n",
    "A [D]band of angels [G]comin’ after [D]me,\n",
    "Comin’ for to [A7]carry me [D]home.\n",
    "{end_of_verse}\n",
    "\n",
    "{start_of_chorus}\n",
    "Swing [D]low, sweet [G]chari[D]ot,\n",
    "Comin’ for to carry me [A7]home.\n",
    "Swing [D7]low, sweet [G]chari[D]ot,\n",
    "Comin’ for to [A7]carry me [D]home.\n",
    "{end_of_chorus}\n",
    "\n",
    "{start_of_verse}\n",
    "I [D]looked over Jordan, and [G]what did I [D]see,\n",
    "Comin’ for to carry me [A7]home.\n",
    "A [D]band of angels [G]comin’ after [D]me,\n",
    "Comin’ for to [A7]carry me [D]home.\n",
    "{end_of_verse}\n",
    "\n",
    "{start_of_verse}\n",
    "Comin’ [G] for to +ľščťžýá[A]íííé=ĺḱḿńǘćźáś\n",
    "[D] dǵḱ´lṕóíúýŕéẃ [C]\n",
    "[C]ěŘťÝÚÍÓṔ[C]ÁŚǴǨĽMˇNňǚčž [C].\n",
    "{end_of_verse}\n",
    "\n",
    "{comment: Chorus}\n",
    "\"\"\"\n",
    "\n",
    "title = re.search(r\"\\{title: (.+)\\}\", song_data)\n",
    "song_data = re.sub(r\"\\{title: (.+?)\\}\", \"\", song_data)\n",
    "\n",
    "capo = re.search(r\"\\{capo: (.+)\\}\", song_data)\n",
    "song_data = re.sub(r\"\\{capo: (.+?)\\}\", \"\", song_data)\n",
    "\n",
    "\n",
    "song_lines = [d for d in song_data.split(\"\\n\") if len(d) != 0]\n",
    "title = song_lines.pop(0)\n",
    "\n",
    "# Render the song template\n",
    "song_rendered = song_template.render(song_lines=song_lines)\n",
    "\n",
    "# Combine the title and song templates\n",
    "final_output = song_rendered\n",
    "\n",
    "# Save or print the final output\n",
    "with open(\"output.html\", \"w\") as output_file:\n",
    "    output_file.write(final_output)\n",
    "\n",
    "print(\"HTML file generated successfully.\")"
   ]
  },
  {
   "cell_type": "code",
   "execution_count": 9,
   "metadata": {},
   "outputs": [
    {
     "name": "stdout",
     "output_type": "stream",
     "text": [
      "PDF generated successfully at output.pdf\n"
     ]
    }
   ],
   "source": [
    "import pdfkit\n",
    "html_file_path = 'output.html'\n",
    "\n",
    "# Output PDF file path\n",
    "pdf_file_path = 'output.pdf'\n",
    "\n",
    "# Configuration for PDFKit\n",
    "config = pdfkit.configuration(wkhtmltopdf='/usr/bin/wkhtmltopdf')\n",
    "\n",
    "# Convert HTML to PDF\n",
    "pdfkit.from_file(html_file_path, pdf_file_path, configuration=config)\n",
    "\n",
    "print(f'PDF generated successfully at {pdf_file_path}')"
   ]
  },
  {
   "cell_type": "code",
   "execution_count": null,
   "metadata": {},
   "outputs": [],
   "source": []
  },
  {
   "cell_type": "code",
   "execution_count": null,
   "metadata": {},
   "outputs": [],
   "source": []
  }
 ],
 "metadata": {
  "kernelspec": {
   "display_name": "copscraper",
   "language": "python",
   "name": "python3"
  },
  "language_info": {
   "codemirror_mode": {
    "name": "ipython",
    "version": 3
   },
   "file_extension": ".py",
   "mimetype": "text/x-python",
   "name": "python",
   "nbconvert_exporter": "python",
   "pygments_lexer": "ipython3",
   "version": "3.10.13"
  }
 },
 "nbformat": 4,
 "nbformat_minor": 2
}
